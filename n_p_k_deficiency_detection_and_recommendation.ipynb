{
  "nbformat": 4,
  "nbformat_minor": 0,
  "metadata": {
    "colab": {
      "provenance": [],
      "authorship_tag": "ABX9TyOcvRfHvuC+AQYtLVeJhX2G",
      "include_colab_link": true
    },
    "kernelspec": {
      "name": "python3",
      "display_name": "Python 3"
    },
    "language_info": {
      "name": "python"
    }
  },
  "cells": [
    {
      "cell_type": "markdown",
      "metadata": {
        "id": "view-in-github",
        "colab_type": "text"
      },
      "source": [
        "<a href=\"https://colab.research.google.com/github/Ravindra-Nayak/Agrim_Dashboard/blob/main/n_p_k_deficiency_detection_and_recommendation.ipynb\" target=\"_parent\"><img src=\"https://colab.research.google.com/assets/colab-badge.svg\" alt=\"Open In Colab\"/></a>"
      ]
    },
    {
      "cell_type": "code",
      "source": [
        "#The model will detect the nitrogen,phosphorus,potassium deficiency and will also calculate deficiency levels of each parameters and will build the clusters of the given dataset\n",
        "# importing libraries for the given dataset\n",
        "\n",
        "import pandas as pd\n",
        "from sklearn.cluster import KMeans"
      ],
      "metadata": {
        "id": "fcjSdGFQ4KnH"
      },
      "execution_count": null,
      "outputs": []
    },
    {
      "cell_type": "code",
      "source": [
        "# Step 1: Load the Agrim dataset\n",
        "data = pd.read_csv('/content/agridatas.csv')"
      ],
      "metadata": {
        "colab": {
          "base_uri": "https://localhost:8080/"
        },
        "id": "pHarueVp7lhP",
        "outputId": "8e0fb7e1-2a8f-451a-bbfc-de2a103ada7e"
      },
      "execution_count": null,
      "outputs": [
        {
          "output_type": "stream",
          "name": "stderr",
          "text": [
            "<ipython-input-73-9a8507ea1f3e>:2: DtypeWarning: Columns (2) have mixed types. Specify dtype option on import or set low_memory=False.\n",
            "  data = pd.read_csv('/content/agridatas.csv')\n"
          ]
        }
      ]
    },
    {
      "cell_type": "code",
      "source": [
        "# Step 2: Select relevant features\n",
        "X = data[['nitrogen', 'phosphorus', 'potassium', 'ph', 'temperature', 'humidity']]"
      ],
      "metadata": {
        "id": "0hhBVRIB7pbE"
      },
      "execution_count": null,
      "outputs": []
    },
    {
      "cell_type": "code",
      "source": [
        "# Step 3: Choose the number of clusters (we can determine it using the Elbow Method)\n",
        "k = 3  # we can also Replace with our chosen number of clusters"
      ],
      "metadata": {
        "id": "nRsQ1oJ37sSS"
      },
      "execution_count": null,
      "outputs": []
    },
    {
      "cell_type": "code",
      "source": [
        "# Step 4: Initialize K-Means\n",
        "kmeans = KMeans(n_clusters=k, random_state=42)"
      ],
      "metadata": {
        "id": "WUm0_GkZ7v5Q"
      },
      "execution_count": null,
      "outputs": []
    },
    {
      "cell_type": "code",
      "source": [
        "# Step 5: Fit K-Means to the data\n",
        "kmeans.fit(X)"
      ],
      "metadata": {
        "colab": {
          "base_uri": "https://localhost:8080/",
          "height": 129
        },
        "id": "tR3PjAvk71Yv",
        "outputId": "65125a8c-4f87-449c-e12d-0ff42d28baae"
      },
      "execution_count": null,
      "outputs": [
        {
          "output_type": "stream",
          "name": "stderr",
          "text": [
            "/usr/local/lib/python3.10/dist-packages/sklearn/cluster/_kmeans.py:870: FutureWarning: The default value of `n_init` will change from 10 to 'auto' in 1.4. Set the value of `n_init` explicitly to suppress the warning\n",
            "  warnings.warn(\n"
          ]
        },
        {
          "output_type": "execute_result",
          "data": {
            "text/plain": [
              "KMeans(n_clusters=3, random_state=42)"
            ],
            "text/html": [
              "<style>#sk-container-id-5 {color: black;background-color: white;}#sk-container-id-5 pre{padding: 0;}#sk-container-id-5 div.sk-toggleable {background-color: white;}#sk-container-id-5 label.sk-toggleable__label {cursor: pointer;display: block;width: 100%;margin-bottom: 0;padding: 0.3em;box-sizing: border-box;text-align: center;}#sk-container-id-5 label.sk-toggleable__label-arrow:before {content: \"▸\";float: left;margin-right: 0.25em;color: #696969;}#sk-container-id-5 label.sk-toggleable__label-arrow:hover:before {color: black;}#sk-container-id-5 div.sk-estimator:hover label.sk-toggleable__label-arrow:before {color: black;}#sk-container-id-5 div.sk-toggleable__content {max-height: 0;max-width: 0;overflow: hidden;text-align: left;background-color: #f0f8ff;}#sk-container-id-5 div.sk-toggleable__content pre {margin: 0.2em;color: black;border-radius: 0.25em;background-color: #f0f8ff;}#sk-container-id-5 input.sk-toggleable__control:checked~div.sk-toggleable__content {max-height: 200px;max-width: 100%;overflow: auto;}#sk-container-id-5 input.sk-toggleable__control:checked~label.sk-toggleable__label-arrow:before {content: \"▾\";}#sk-container-id-5 div.sk-estimator input.sk-toggleable__control:checked~label.sk-toggleable__label {background-color: #d4ebff;}#sk-container-id-5 div.sk-label input.sk-toggleable__control:checked~label.sk-toggleable__label {background-color: #d4ebff;}#sk-container-id-5 input.sk-hidden--visually {border: 0;clip: rect(1px 1px 1px 1px);clip: rect(1px, 1px, 1px, 1px);height: 1px;margin: -1px;overflow: hidden;padding: 0;position: absolute;width: 1px;}#sk-container-id-5 div.sk-estimator {font-family: monospace;background-color: #f0f8ff;border: 1px dotted black;border-radius: 0.25em;box-sizing: border-box;margin-bottom: 0.5em;}#sk-container-id-5 div.sk-estimator:hover {background-color: #d4ebff;}#sk-container-id-5 div.sk-parallel-item::after {content: \"\";width: 100%;border-bottom: 1px solid gray;flex-grow: 1;}#sk-container-id-5 div.sk-label:hover label.sk-toggleable__label {background-color: #d4ebff;}#sk-container-id-5 div.sk-serial::before {content: \"\";position: absolute;border-left: 1px solid gray;box-sizing: border-box;top: 0;bottom: 0;left: 50%;z-index: 0;}#sk-container-id-5 div.sk-serial {display: flex;flex-direction: column;align-items: center;background-color: white;padding-right: 0.2em;padding-left: 0.2em;position: relative;}#sk-container-id-5 div.sk-item {position: relative;z-index: 1;}#sk-container-id-5 div.sk-parallel {display: flex;align-items: stretch;justify-content: center;background-color: white;position: relative;}#sk-container-id-5 div.sk-item::before, #sk-container-id-5 div.sk-parallel-item::before {content: \"\";position: absolute;border-left: 1px solid gray;box-sizing: border-box;top: 0;bottom: 0;left: 50%;z-index: -1;}#sk-container-id-5 div.sk-parallel-item {display: flex;flex-direction: column;z-index: 1;position: relative;background-color: white;}#sk-container-id-5 div.sk-parallel-item:first-child::after {align-self: flex-end;width: 50%;}#sk-container-id-5 div.sk-parallel-item:last-child::after {align-self: flex-start;width: 50%;}#sk-container-id-5 div.sk-parallel-item:only-child::after {width: 0;}#sk-container-id-5 div.sk-dashed-wrapped {border: 1px dashed gray;margin: 0 0.4em 0.5em 0.4em;box-sizing: border-box;padding-bottom: 0.4em;background-color: white;}#sk-container-id-5 div.sk-label label {font-family: monospace;font-weight: bold;display: inline-block;line-height: 1.2em;}#sk-container-id-5 div.sk-label-container {text-align: center;}#sk-container-id-5 div.sk-container {/* jupyter's `normalize.less` sets `[hidden] { display: none; }` but bootstrap.min.css set `[hidden] { display: none !important; }` so we also need the `!important` here to be able to override the default hidden behavior on the sphinx rendered scikit-learn.org. See: https://github.com/scikit-learn/scikit-learn/issues/21755 */display: inline-block !important;position: relative;}#sk-container-id-5 div.sk-text-repr-fallback {display: none;}</style><div id=\"sk-container-id-5\" class=\"sk-top-container\"><div class=\"sk-text-repr-fallback\"><pre>KMeans(n_clusters=3, random_state=42)</pre><b>In a Jupyter environment, please rerun this cell to show the HTML representation or trust the notebook. <br />On GitHub, the HTML representation is unable to render, please try loading this page with nbviewer.org.</b></div><div class=\"sk-container\" hidden><div class=\"sk-item\"><div class=\"sk-estimator sk-toggleable\"><input class=\"sk-toggleable__control sk-hidden--visually\" id=\"sk-estimator-id-5\" type=\"checkbox\" checked><label for=\"sk-estimator-id-5\" class=\"sk-toggleable__label sk-toggleable__label-arrow\">KMeans</label><div class=\"sk-toggleable__content\"><pre>KMeans(n_clusters=3, random_state=42)</pre></div></div></div></div></div>"
            ]
          },
          "metadata": {},
          "execution_count": 77
        }
      ]
    },
    {
      "cell_type": "code",
      "source": [
        "# Step 6: Add cluster labels to the original dataset\n",
        "data['cluster'] = kmeans.labels_"
      ],
      "metadata": {
        "id": "krNek2jX73Wv"
      },
      "execution_count": null,
      "outputs": []
    },
    {
      "cell_type": "code",
      "source": [
        "# Step 7: Define deficiency detection rules for all clusters\n",
        "def detect_deficiency(cluster, nutrients):\n",
        "    deficiency_messages = []\n",
        "    deficiency_levels = {'nitrogen': 0, 'phosphorus': 0, 'potassium': 0}\n",
        "\n",
        "    if nutrients['nitrogen'] < 4.0:\n",
        "        deficiency_messages.append(f'Nitrogen deficiency detected. Deficiency level: {4.0 - nutrients[\"nitrogen\"]:.2f}')\n",
        "        deficiency_levels['nitrogen'] = 4.0 - nutrients['nitrogen']\n",
        "\n",
        "    if nutrients['phosphorus'] < 2.0:\n",
        "        deficiency_messages.append(f'Phosphorus deficiency detected. Deficiency level: {2.0 - nutrients[\"phosphorus\"]:.2f}')\n",
        "        deficiency_levels['phosphorus'] = 2.0 - nutrients['phosphorus']\n",
        "\n",
        "    if nutrients['potassium'] < 1.0:\n",
        "        deficiency_messages.append(f'Potassium deficiency detected. Deficiency level: {1.0 - nutrients[\"potassium\"]:.2f}')\n",
        "        deficiency_levels['potassium'] = 1.0 - nutrients['potassium']\n",
        "\n",
        "    if not deficiency_messages:\n",
        "        deficiency_messages.append('No deficiency detected.')\n",
        "\n",
        "    return ', '.join(deficiency_messages), deficiency_levels\n"
      ],
      "metadata": {
        "id": "rHrv2i0pZ1YP"
      },
      "execution_count": null,
      "outputs": []
    },
    {
      "cell_type": "code",
      "source": [
        "# Step 8: Apply the deficiency detection function to the dataset\n",
        "data[['deficiency_message', 'deficiency_levels']] = data.apply(\n",
        "    lambda row: pd.Series(detect_deficiency(row['cluster'], {'nitrogen': row['nitrogen'], 'phosphorus': row['phosphorus'], 'potassium': row['potassium']})), axis=1)"
      ],
      "metadata": {
        "id": "rtBvwVg9Z_zM"
      },
      "execution_count": null,
      "outputs": []
    },
    {
      "cell_type": "code",
      "source": [
        "# Step 9: Summarize the results\n",
        "print(\"Summary:\")\n",
        "print(data[['nitrogen', 'phosphorus', 'potassium', 'ph', 'temperature', 'humidity', 'cluster', 'deficiency_message', 'deficiency_levels']])\n"
      ],
      "metadata": {
        "colab": {
          "base_uri": "https://localhost:8080/"
        },
        "id": "c8kTeD3BaZZ_",
        "outputId": "582d596d-6be4-4063-e095-032735d4e63d"
      },
      "execution_count": null,
      "outputs": [
        {
          "output_type": "stream",
          "name": "stdout",
          "text": [
            "Summary:\n",
            "        nitrogen  phosphorus  potassium    ph  temperature  humidity  cluster  \\\n",
            "0              4           5         11  7.29         23.7      18.5        2   \n",
            "1              2           4          8  7.94         21.8      12.3        1   \n",
            "2              5           8         16  7.00         28.6      14.3        2   \n",
            "3              5           7         14  7.17         28.2      13.7        2   \n",
            "4              3           4          9  7.00         21.8      13.1        0   \n",
            "...          ...         ...        ...   ...          ...       ...      ...   \n",
            "131153         5           7         16  7.77         22.2      16.4        2   \n",
            "131154         5           8         16  7.33         28.5      16.1        2   \n",
            "131155         2           3          7  7.30         27.0      11.0        1   \n",
            "131156         3           4          9  7.22         24.6      11.8        0   \n",
            "131157         2           3          7  7.47         22.6      11.0        1   \n",
            "\n",
            "                                       deficiency_message  \\\n",
            "0                                 No deficiency detected.   \n",
            "1       Nitrogen deficiency detected. Deficiency level...   \n",
            "2                                 No deficiency detected.   \n",
            "3                                 No deficiency detected.   \n",
            "4       Nitrogen deficiency detected. Deficiency level...   \n",
            "...                                                   ...   \n",
            "131153                            No deficiency detected.   \n",
            "131154                            No deficiency detected.   \n",
            "131155  Nitrogen deficiency detected. Deficiency level...   \n",
            "131156  Nitrogen deficiency detected. Deficiency level...   \n",
            "131157  Nitrogen deficiency detected. Deficiency level...   \n",
            "\n",
            "                                        deficiency_levels  \n",
            "0        {'nitrogen': 0, 'phosphorus': 0, 'potassium': 0}  \n",
            "1       {'nitrogen': 2.0, 'phosphorus': 0, 'potassium'...  \n",
            "2        {'nitrogen': 0, 'phosphorus': 0, 'potassium': 0}  \n",
            "3        {'nitrogen': 0, 'phosphorus': 0, 'potassium': 0}  \n",
            "4       {'nitrogen': 1.0, 'phosphorus': 0, 'potassium'...  \n",
            "...                                                   ...  \n",
            "131153   {'nitrogen': 0, 'phosphorus': 0, 'potassium': 0}  \n",
            "131154   {'nitrogen': 0, 'phosphorus': 0, 'potassium': 0}  \n",
            "131155  {'nitrogen': 2.0, 'phosphorus': 0, 'potassium'...  \n",
            "131156  {'nitrogen': 1.0, 'phosphorus': 0, 'potassium'...  \n",
            "131157  {'nitrogen': 2.0, 'phosphorus': 0, 'potassium'...  \n",
            "\n",
            "[131158 rows x 9 columns]\n"
          ]
        }
      ]
    },
    {
      "cell_type": "code",
      "source": [
        "# Step 10: Save or deploy the model for future use\n",
        "\n",
        "# 1st Example usage with a new dataset\n",
        "new_data = pd.DataFrame({'nitrogen': [3.8], 'phosphorus': [1.5], 'potassium': [0.8], 'ph': [6.3], 'temperature': [27.0], 'humidity': [40.0]})\n",
        "new_cluster = kmeans.predict(new_data)[0]\n",
        "new_deficiency_message, new_deficiency_levels = detect_deficiency(new_cluster, {'nitrogen': new_data['nitrogen'][0], 'phosphorus': new_data['phosphorus'][0], 'potassium': new_data['potassium'][0]})\n",
        "\n",
        "print(\"\\nExample with New Dataset:\")\n",
        "print(f'Cluster: {new_cluster}')\n",
        "print(f'Deficiency Detection Result: {new_deficiency_message}')\n",
        "print(f'Deficiency Levels: {new_deficiency_levels}')"
      ],
      "metadata": {
        "colab": {
          "base_uri": "https://localhost:8080/"
        },
        "id": "BP8Fa5rBaiNo",
        "outputId": "93be39dc-9fa2-4690-ee9c-9b194737a249"
      },
      "execution_count": null,
      "outputs": [
        {
          "output_type": "stream",
          "name": "stdout",
          "text": [
            "\n",
            "Example with New Dataset:\n",
            "Cluster: 2\n",
            "Deficiency Detection Result: Nitrogen deficiency detected. Deficiency level: 0.20, Phosphorus deficiency detected. Deficiency level: 0.50, Potassium deficiency detected. Deficiency level: 0.20\n",
            "Deficiency Levels: {'nitrogen': 0.20000000000000018, 'phosphorus': 0.5, 'potassium': 0.19999999999999996}\n"
          ]
        }
      ]
    },
    {
      "cell_type": "code",
      "source": [
        "\n",
        "# model test for with 2nd Example usage with a new dataset\n",
        "new_data = pd.DataFrame({'nitrogen': [8], 'phosphorus': [1.5], 'potassium': [0.8], 'ph': [6.3], 'temperature': [27.0], 'humidity': [40.0]})\n",
        "new_cluster = kmeans.predict(new_data)[0]\n",
        "new_deficiency_message, new_deficiency_levels = detect_deficiency(new_cluster, {'nitrogen': new_data['nitrogen'][0], 'phosphorus': new_data['phosphorus'][0], 'potassium': new_data['potassium'][0]})\n",
        "\n",
        "print(\"\\nExample with New Dataset:\")\n",
        "print(f'Cluster: {new_cluster}')\n",
        "print(f'Deficiency Detection Result: {new_deficiency_message}')\n",
        "print(f'Deficiency Levels: {new_deficiency_levels}')"
      ],
      "metadata": {
        "colab": {
          "base_uri": "https://localhost:8080/"
        },
        "id": "NFQYXcG7a7nj",
        "outputId": "b05ef370-6b46-4c15-8f47-42cc35b4c1f8"
      },
      "execution_count": null,
      "outputs": [
        {
          "output_type": "stream",
          "name": "stdout",
          "text": [
            "\n",
            "Example with New Dataset:\n",
            "Cluster: 2\n",
            "Deficiency Detection Result: Phosphorus deficiency detected. Deficiency level: 0.50, Potassium deficiency detected. Deficiency level: 0.20\n",
            "Deficiency Levels: {'nitrogen': 0, 'phosphorus': 0.5, 'potassium': 0.19999999999999996}\n"
          ]
        }
      ]
    },
    {
      "cell_type": "code",
      "source": [
        "\n",
        "# model test for with 3rd Example usage with a new dataset\n",
        "new_data = pd.DataFrame({'nitrogen': [4], 'phosphorus': [2], 'potassium': [1], 'ph': [6.3], 'temperature': [27.0], 'humidity': [40.0]})\n",
        "new_cluster = kmeans.predict(new_data)[0]\n",
        "new_deficiency_message, new_deficiency_levels = detect_deficiency(new_cluster, {'nitrogen': new_data['nitrogen'][0], 'phosphorus': new_data['phosphorus'][0], 'potassium': new_data['potassium'][0]})\n",
        "\n",
        "print(\"\\nExample with New Dataset:\")\n",
        "print(f'Cluster: {new_cluster}')\n",
        "print(f'Deficiency Detection Result: {new_deficiency_message}')\n",
        "print(f'Deficiency Levels: {new_deficiency_levels}')"
      ],
      "metadata": {
        "colab": {
          "base_uri": "https://localhost:8080/"
        },
        "id": "kgpx5HHpeeKq",
        "outputId": "0ea8e0e6-b57b-4f1c-d80f-57de760d8f24"
      },
      "execution_count": null,
      "outputs": [
        {
          "output_type": "stream",
          "name": "stdout",
          "text": [
            "\n",
            "Example with New Dataset:\n",
            "Cluster: 2\n",
            "Deficiency Detection Result: No deficiency detected.\n",
            "Deficiency Levels: {'nitrogen': 0, 'phosphorus': 0, 'potassium': 0}\n"
          ]
        }
      ]
    }
  ]
}